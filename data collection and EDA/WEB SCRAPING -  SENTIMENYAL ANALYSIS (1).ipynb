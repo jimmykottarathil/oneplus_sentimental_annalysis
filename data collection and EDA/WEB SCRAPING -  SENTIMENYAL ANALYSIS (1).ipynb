{
 "cells": [
  {
   "cell_type": "code",
   "execution_count": 1,
   "metadata": {},
   "outputs": [],
   "source": [
    "from bs4 import BeautifulSoup\n",
    "import requests\n",
    "import pandas as pd\n",
    "import numpy as np\n",
    "import re\n",
    "from nltk.tokenize import word_tokenize,sent_tokenize\n",
    "from nltk.stem import WordNetLemmatizer\n",
    "from nltk.corpus import stopwords\n",
    "from textblob import TextBlob\n",
    "import time\n",
    "import random\n",
    "import threading as th\n",
    "from sklearn.feature_extraction.text import CountVectorizer \n",
    "import seaborn as sns\n",
    "import matplotlib.pyplot as plt\n",
    "from sklearn_pandas import DataFrameMapper\n",
    "from imblearn.over_sampling import RandomOverSampler\n",
    "from imblearn.combine import SMOTETomek\n",
    "from sklearn.naive_bayes import MultinomialNB\n",
    "from sklearn.model_selection import StratifiedKFold\n",
    "from sklearn.preprocessing import StandardScaler\n",
    "from sklearn.decomposition import PCA\n",
    "from sklearn.metrics import accuracy_score\n",
    "import statistics\n",
    "from random import sample\n",
    "import warnings\n",
    "warnings.filterwarnings('ignore')\n"
   ]
  },
  {
   "cell_type": "code",
   "execution_count": 2,
   "metadata": {},
   "outputs": [],
   "source": [
    "amazon_reviews = []\n",
    "amazon_ratings = []\n",
    "flipkart_reviews = []\n",
    "flipkart_ratings = []\n",
    "\n",
    "url1 = \"/OnePlus-Glacier-Display-Storage-3800mAH/product-reviews/B07DJHXTLJ/ref=cm_cr_getr_d_paging_btm_prev_1?ie=UTF8&reviewerType=all_reviews&pageNumber=1\"\n",
    "url = 'https://www.amazon.in'\n",
    "flipkart_url=\"\"\"https://www.flipkart.com/oneplus-7t-glacier-blue-256-gb/product-reviews/itma74f3aece46b1?pid=MOBFKWSYTHTESNSG&lid=LSTMOBFKWSYTHTESNSGC2V2UD&marketplace=FLIPKART&page=\"\"\"\n",
    "\n",
    "\n",
    "def amazon_data_extraction(url1):\n",
    "    for i in range(1,3):\n",
    "        html = requests.get(url + url1)\n",
    "        while html.status_code != 200:\n",
    "            print('error')\n",
    "            time.sleep(random.randint(3, 6))\n",
    "            html = requests.get(url + url1)\n",
    "\n",
    "        reviews=[]\n",
    "        try:\n",
    "            page = BeautifulSoup(html.content, 'lxml')\n",
    "            review = page.find_all('span',class_='a-size-base review-text review-text-content')\n",
    "            raw_rating=page.select('div.a-row>a>i>span.a-icon-alt')\n",
    "            for i in range(10):\n",
    "                reviews.append(review[i].span.text)\n",
    "                a=re.sub('[^0-9]',\"\",str(raw_rating[i]))\n",
    "                amazon_ratings.append(int(a[0]))\n",
    "        except TypeError:\n",
    "            print('oops')\n",
    "\n",
    "        next_url = page.select('li.a-last>a')\n",
    "       # global url1\n",
    "        url1 = next_url[0].attrs['href']\n",
    "        reviews=cleaning_reviews(reviews)\n",
    "        for k in reviews:\n",
    "            amazon_reviews.append(k)\n",
    "\n",
    "def cleaning_reviews(reviews):\n",
    "    for i in range(len(reviews)):\n",
    "        words=re.sub('[^a-zA-Z]+',\" \",reviews[i].lower())\n",
    "        words=word_tokenize(words)\n",
    "        words=[WordNetLemmatizer().lemmatize(k) for k in words if k not in set(stopwords.words('english'))]\n",
    "        reviews[i]=\" \".join(words)\n",
    "    return reviews\n",
    "\n",
    "def sentimence_analysis(reviews):\n",
    "    sentimence=[]\n",
    "    for i in reviews:\n",
    "        if TextBlob(i).sentiment.polarity==0:\n",
    "            sentimence.append(0)\n",
    "        elif TextBlob(i).sentiment.polarity>0:\n",
    "            sentimence.append(1)\n",
    "        elif TextBlob(i).sentiment.polarity<0:\n",
    "            sentimence.append(-1)\n",
    "    return sentimence\n",
    "\n",
    "def flipkart_data_extraction(url):\n",
    "    for i in range(1,3):\n",
    "        html=requests.get(url+str(i))\n",
    "        while html.status_code!=200:\n",
    "            print('error')\n",
    "            time.sleep(random.randint(3,6))\n",
    "            html=requests.get(url+str(i))\n",
    "\n",
    "        try:\n",
    "            reviews=[]\n",
    "            page=BeautifulSoup(html.content,'lxml')\n",
    "            review = page.find_all('div',class_='qwjRop')\n",
    "            rating=page.find_all('div',class_='col _390CkK _1gY8H-')\n",
    "            for i in range(len(review)):\n",
    "                reviews.append(review[i].div.div.text)\n",
    "                flipkart_ratings.append(int(rating[i].find('div',class_='row').text[0]))\n",
    "        except TypeError:\n",
    "            print('oops')\n",
    "\n",
    "        reviews=cleaning_reviews(reviews)\n",
    "        for k in reviews:\n",
    "            flipkart_reviews.append(k)\n",
    "\n",
    "# if __name__ == \"__main__\":\n",
    "#     t1=th.Thread(target=amazon_data_extraction, args=(url1,))\n",
    "#     t2=th.Thread(target=flipkart_data_extraction, args=(flipkart_url,))\n",
    "#     t1.start()\n",
    "#     t2.start()\n",
    "#     t1.join()\n",
    "#     t2.join()\n",
    "\n",
    "\n",
    "# s=time.time()\n",
    "# sentimence = sentimence_analysis(amazon_reviews)\n",
    "# amazon_data = pd.DataFrame({'comments': amazon_reviews, 'ratings': amazon_ratings, 'sentiments': sentimence})\n",
    "# # amazon_data.to_csv(r'E:\\csv_datas\\scraping_reviews/amazon_data.csv')\n",
    "# print(amazon_data)\n",
    "# flipkart_data_extraction(flipkart_url)\n",
    "# flipkart_sentimence = sentimence_analysis(flipkart_reviews)\n",
    "# flipkart_data = pd.DataFrame({'reviews':flipkart_reviews,'ratings':flipkart_ratings,'sentiments':flipkart_sentimence})\n",
    "# # flipkart_data.to_csv(r'E:\\csv_datas\\scraping_reviews/flipcart_data.csv')\n",
    "# print(flipkart_data)\n",
    "# # print(f'time  {time.time()-s}')\n"
   ]
  },
  {
   "cell_type": "code",
   "execution_count": 3,
   "metadata": {},
   "outputs": [],
   "source": [
    "amazon_data1=pd.read_csv(r'E:\\csv_datas\\scraping_reviews/amazon_data.csv', usecols=['reviews', 'sentiments'] )\n",
    "flipkart_data1=pd.read_csv(r'E:\\csv_datas\\scraping_reviews/flipkart_data.csv', usecols=['reviews', 'sentiments'])"
   ]
  },
  {
   "cell_type": "code",
   "execution_count": 4,
   "metadata": {},
   "outputs": [],
   "source": [
    "df=pd.concat([amazon_data1,flipkart_data1],  ignore_index=True)"
   ]
  },
  {
   "cell_type": "code",
   "execution_count": 5,
   "metadata": {
    "scrolled": true
   },
   "outputs": [
    {
     "data": {
      "text/plain": [
       "<matplotlib.axes._subplots.AxesSubplot at 0x2664b531a90>"
      ]
     },
     "execution_count": 5,
     "metadata": {},
     "output_type": "execute_result"
    },
    {
     "data": {
      "image/png": "[encoded data removed]",
      "text/plain": [
       "<Figure size 432x288 with 1 Axes>"
      ]
     },
     "metadata": {
      "needs_background": "light"
     },
     "output_type": "display_data"
    }
   ],
   "source": [
    "sns.countplot(df.sentiments)"
   ]
  },
  {
   "cell_type": "code",
   "execution_count": 6,
   "metadata": {},
   "outputs": [
    {
     "data": {
      "text/plain": [
       "((473, 2), (507, 2), (4600, 2))"
      ]
     },
     "execution_count": 6,
     "metadata": {},
     "output_type": "execute_result"
    }
   ],
   "source": [
    "df.loc[df.sentiments==-1].shape, df.loc[df.sentiments==0].shape, df.loc[df.sentiments==1].shape"
   ]
  },
  {
   "cell_type": "code",
   "execution_count": 7,
   "metadata": {},
   "outputs": [
    {
     "data": {
      "text/plain": [
       "reviews       4\n",
       "sentiments    0\n",
       "dtype: int64"
      ]
     },
     "execution_count": 7,
     "metadata": {},
     "output_type": "execute_result"
    }
   ],
   "source": [
    " df.isna().sum()"
   ]
  },
  {
   "cell_type": "code",
   "execution_count": 8,
   "metadata": {},
   "outputs": [],
   "source": [
    "df.dropna(axis=0, inplace=True)"
   ]
  },
  {
   "cell_type": "code",
   "execution_count": 9,
   "metadata": {},
   "outputs": [
    {
     "data": {
      "text/plain": [
       "reviews       0\n",
       "sentiments    0\n",
       "dtype: int64"
      ]
     },
     "execution_count": 9,
     "metadata": {},
     "output_type": "execute_result"
    }
   ],
   "source": [
    " df.isna().sum()"
   ]
  },
  {
   "cell_type": "code",
   "execution_count": 10,
   "metadata": {},
   "outputs": [],
   "source": [
    "df.reset_index(drop=True, inplace=True)\n"
   ]
  },
  {
   "cell_type": "code",
   "execution_count": 11,
   "metadata": {},
   "outputs": [],
   "source": [
    "def text_data_conversion(df):\n",
    "    x=df.reviews\n",
    "    y=df.sentiments\n",
    "    cv=CountVectorizer()\n",
    "    x=cv.fit_transform(x).toarray()\n",
    "    return x,y"
   ]
  },
  {
   "cell_type": "code",
   "execution_count": 12,
   "metadata": {},
   "outputs": [
    {
     "name": "stdout",
     "output_type": "stream",
     "text": [
      "[[0 0 0 ... 1 0 0]\n",
      " [0 0 0 ... 0 0 0]\n",
      " [0 0 0 ... 0 0 0]\n",
      " ...\n",
      " [0 0 0 ... 0 0 0]\n",
      " [0 0 0 ... 0 0 0]\n",
      " [0 0 0 ... 0 0 0]]\n",
      "data shape :(5576, 7427) , target shape :(5576,)\n"
     ]
    }
   ],
   "source": [
    "data,target=text_data_conversion(df)\n",
    "print(data)\n",
    "print(f'data shape :{data.shape} , target shape :{target.shape}')"
   ]
  },
  {
   "cell_type": "code",
   "execution_count": null,
   "metadata": {},
   "outputs": [],
   "source": [
    "sns.heatmap(data)"
   ]
  },
  {
   "cell_type": "code",
   "execution_count": 13,
   "metadata": {},
   "outputs": [],
   "source": [
    "st = StandardScaler()\n",
    "scaled_data=st.fit_transform(data)"
   ]
  },
  {
   "cell_type": "code",
   "execution_count": 14,
   "metadata": {},
   "outputs": [
    {
     "data": {
      "text/plain": [
       "PCA(copy=True, iterated_power='auto', n_components=None, random_state=None,\n",
       "    svd_solver='auto', tol=0.0, whiten=False)"
      ]
     },
     "execution_count": 14,
     "metadata": {},
     "output_type": "execute_result"
    }
   ],
   "source": [
    "pca=PCA()\n",
    "pca.fit(scaled_data)"
   ]
  },
  {
   "cell_type": "code",
   "execution_count": 15,
   "metadata": {},
   "outputs": [
    {
     "data": {
      "text/plain": [
       "Text(0, 0.5, 'varience')"
      ]
     },
     "execution_count": 15,
     "metadata": {},
     "output_type": "execute_result"
    },
    {
     "data": {
      "image/png": "[encoded data removed]",
      "text/plain": [
       "<Figure size 432x288 with 1 Axes>"
      ]
     },
     "metadata": {
      "needs_background": "light"
     },
     "output_type": "display_data"
    }
   ],
   "source": [
    "plt.plot(np.cumsum(pca.explained_variance_ratio_))\n",
    "plt.xlabel('features')\n",
    "plt.ylabel('varience')"
   ]
  },
  {
   "cell_type": "code",
   "execution_count": 16,
   "metadata": {},
   "outputs": [],
   "source": [
    "pca=PCA(n_components=1600)\n",
    "data=pca.fit_transform(scaled_data)"
   ]
  },
  {
   "cell_type": "code",
   "execution_count": 17,
   "metadata": {},
   "outputs": [
    {
     "data": {
      "text/plain": [
       "(5576, 1600)"
      ]
     },
     "execution_count": 17,
     "metadata": {},
     "output_type": "execute_result"
    }
   ],
   "source": [
    "data.shape"
   ]
  },
  {
   "cell_type": "code",
   "execution_count": null,
   "metadata": {},
   "outputs": [],
   "source": [
    "from feature_selection import SelectPercentile"
   ]
  },
  {
   "cell_type": "code",
   "execution_count": 18,
   "metadata": {},
   "outputs": [],
   "source": [
    "stk=StratifiedKFold(n_splits=3)\n",
    "train_index = []\n",
    "test_index = []\n",
    "for i,j in stk.split(data,target):\n",
    "    train_index.append(i)\n",
    "    test_index.append(j)\n"
   ]
  },
  {
   "cell_type": "code",
   "execution_count": 19,
   "metadata": {},
   "outputs": [],
   "source": [
    "def data_sampling(train_index, l):\n",
    "    train_data, train_target = [], []\n",
    "    os=SMOTETomek()\n",
    "    for i in train_index:\n",
    "        data_sam,target_sam=os.fit_sample(l[0][i], l[1][i])\n",
    "        train_data.append(data_sam)\n",
    "        train_target.append(target_sam)\n",
    "    return train_data, train_target\n",
    "        "
   ]
  },
  {
   "cell_type": "code",
   "execution_count": 20,
   "metadata": {},
   "outputs": [],
   "source": [
    "data_sam,target_sam=data_sampling(train_index, [data, target])"
   ]
  },
  {
   "cell_type": "code",
   "execution_count": 21,
   "metadata": {},
   "outputs": [
    {
     "data": {
      "text/plain": [
       "(9195, 1600)"
      ]
     },
     "execution_count": 21,
     "metadata": {},
     "output_type": "execute_result"
    }
   ],
   "source": [
    "data_sam[1].shape"
   ]
  },
  {
   "cell_type": "code",
   "execution_count": 22,
   "metadata": {},
   "outputs": [
    {
     "data": {
      "text/plain": [
       "0.7541339728969108"
      ]
     },
     "execution_count": 22,
     "metadata": {},
     "output_type": "execute_result"
    }
   ],
   "source": [
    "from sklearn.linear_model import LogisticRegression\n",
    "lgr =LogisticRegression()\n",
    "accuracy=[]\n",
    "for i in range(3):\n",
    "    lgr.fit(data_sam[i], target_sam[i])\n",
    "    ypred=lgr.predict(data[test_index[i]])\n",
    "    accuracy.append(accuracy_score(ypred,target[test_index[i]]))\n",
    "statistics.mean(accuracy)\n",
    "    "
   ]
  },
  {
   "cell_type": "code",
   "execution_count": 39,
   "metadata": {},
   "outputs": [],
   "source": [
    "def input_data_preparation():\n",
    "    cv=CountVectorizer()\n",
    "    comment = input('enter comment: ')\n",
    "    comment = re.sub('[^a-zA-Z]+', \" \", (comment.lower()))\n",
    "    words = word_tokenize(comment)\n",
    "    words = [WordNetLemmatizer().lemmatize(k) for k in words if k not in set(stopwords.words('english'))]\n",
    "    comment = \" \".join(words)\n",
    "    comment = sent_tokenize(comment)\n",
    "    numeric_cmt = cv.fit_transform(comment).toarray()\n",
    "    numeric_cmt = numeric_cmt.flatten()\n",
    "    print(numeric_cmt.shape)\n",
    "    if len(numeric_cmt)<7427:\n",
    "        numeric_cmt = np.pad(numeric_cmt, (7427-len(numeric_cmt), 0), 'constant')\n",
    "        print(numeric_cmt.shape)\n",
    "        return numeric_cmt\n"
   ]
  },
  {
   "cell_type": "code",
   "execution_count": null,
   "metadata": {},
   "outputs": [],
   "source": [
    "comment = input_data_preparation()\n",
    "# comment.shape"
   ]
  },
  {
   "cell_type": "code",
   "execution_count": 45,
   "metadata": {},
   "outputs": [],
   "source": [
    "scaled_comment = st.transform(comment.reshape(1,-1))\n",
    "scaled_comment\n",
    "comment = pca.transform(scaled_comment)"
   ]
  },
  {
   "cell_type": "code",
   "execution_count": 46,
   "metadata": {},
   "outputs": [
    {
     "data": {
      "text/plain": [
       "array([1], dtype=int64)"
      ]
     },
     "execution_count": 46,
     "metadata": {},
     "output_type": "execute_result"
    }
   ],
   "source": [
    "lgr.predict(comment)"
   ]
  },
  {
   "cell_type": "code",
   "execution_count": 33,
   "metadata": {},
   "outputs": [],
   "source": [
    "import pickle"
   ]
  },
  {
   "cell_type": "code",
   "execution_count": 34,
   "metadata": {},
   "outputs": [],
   "source": [
    "pickle.dump(lgr, open(r'E:\\model_deployment\\oneplus_sentimental analysis\\model.pkl', 'wb'))"
   ]
  },
  {
   "cell_type": "code",
   "execution_count": 29,
   "metadata": {},
   "outputs": [],
   "source": [
    "# db=open(r'E:\\model_deployment\\oneplus_sentimental analysis\\model2.pkl', 'wb')"
   ]
  },
  {
   "cell_type": "code",
   "execution_count": 37,
   "metadata": {},
   "outputs": [],
   "source": [
    "pickle.dump(st, open(r'E:\\model_deployment\\oneplus_sentimental analysis\\scaler.pkl', 'wb'))"
   ]
  },
  {
   "cell_type": "code",
   "execution_count": 38,
   "metadata": {},
   "outputs": [],
   "source": [
    "pickle.dump(pca, open(r'E:\\model_deployment\\oneplus_sentimental analysis\\pca.pkl', 'wb'))"
   ]
  },
  {
   "cell_type": "code",
   "execution_count": null,
   "metadata": {},
   "outputs": [],
   "source": []
  }
 ],
 "metadata": {
  "kernelspec": {
   "display_name": "Python 3",
   "language": "python",
   "name": "python3"
  },
  "language_info": {
   "codemirror_mode": {
    "name": "ipython",
    "version": 3
   },
   "file_extension": ".py",
   "mimetype": "text/x-python",
   "name": "python",
   "nbconvert_exporter": "python",
   "pygments_lexer": "ipython3",
   "version": "3.7.3"
  }
 },
 "nbformat": 4,
 "nbformat_minor": 2
}
